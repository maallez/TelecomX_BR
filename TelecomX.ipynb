{
  "nbformat": 4,
  "nbformat_minor": 0,
  "metadata": {
    "colab": {
      "provenance": [],
      "toc_visible": true
    },
    "kernelspec": {
      "name": "python3",
      "display_name": "Python 3"
    },
    "language_info": {
      "name": "python"
    }
  },
  "cells": [
    {
      "cell_type": "markdown",
      "source": [
        "## O codigo em si."
      ],
      "metadata": {
        "id": "sIfO9AvSROds"
      }
    },
    {
      "cell_type": "code",
      "execution_count": null,
      "metadata": {
        "id": "CKPBBQMzgjgA"
      },
      "outputs": [],
      "source": [
        "import pandas as pd\n",
        "pd.set_option('future.no_silent_downcasting', True)\n",
        "import numpy as np\n",
        "import matplotlib.pyplot as plt\n",
        "import seaborn as sns\n",
        "\n",
        "\n",
        "df = pd.read_json('/content/TelecomX_Data.json')\n",
        "\n",
        "print(df.head())"
      ]
    },
    {
      "cell_type": "code",
      "metadata": {
        "id": "555CrGY2gpQq"
      },
      "source": [
        "#Normalização dos dados em Json em etapas.\n",
        "\n",
        "df_customer = pd.json_normalize(df['customer'])\n",
        "df_phone = pd.json_normalize(df['phone'])\n",
        "df_internet = pd.json_normalize(df['internet'])\n",
        "df_account = pd.json_normalize(df['account'])\n",
        "\n",
        "#Tratamento dos dados\n",
        "\n",
        "df_final = pd.concat([df[['customerID', 'Churn']], df_customer, df_phone, df_internet, df_account], axis=1)\n",
        "df_final['Contas_Diarias'] = (df_final['Charges.Monthly'] / 30).round(1)\n",
        "df_final.dropna(subset=['Charges.Total'], inplace=True)\n",
        "\n",
        "yes_no_cols = []\n",
        "for col in df_final.columns:\n",
        "    if df_final[col].dtype == 'object':\n",
        "        unique_values = df_final[col].unique()\n",
        "        if all(val in ['Yes', 'No', np.nan, 'No internet service', 0, 1] for val in unique_values):\n",
        "            if col not in ['gender', 'InternetService', 'Contract', 'PaymentMethod', 'MultipleLines']:\n",
        "                 yes_no_cols.append(col)\n",
        "            elif col == 'MultipleLines' and all(val in ['Yes', 'No', 'No phone service', np.nan, 0, 1] for val in unique_values):\n",
        "                 yes_no_cols.append(col)\n",
        "\n",
        "for col in yes_no_cols:\n",
        "    df_final[col] = df_final[col].replace({'Yes': 1, 'No': 0})\n",
        "\n",
        "cols_to_replace_zero = ['OnlineSecurity', 'OnlineBackup', 'DeviceProtection', 'TechSupport', 'StreamingTV', 'StreamingMovies', 'InternetService', 'MultipleLines', 'PhoneService']\n",
        "for col in cols_to_replace_zero:\n",
        "     if col in df_final.columns:\n",
        "         df_final[col] = df_final[col].replace({'No internet service': 0, 'No phone service': 0, 'Yes': 1, 'No': 0})\n",
        "\n",
        "cols_to_int = ['SeniorCitizen', 'Partner', 'Dependents','PhoneService','PaperlessBilling', 'OnlineSecurity', 'OnlineBackup', 'DeviceProtection', 'TechSupport', 'StreamingTV', 'StreamingMovies', 'MultipleLines']\n",
        "for col in cols_to_int:\n",
        "    if col in df_final.columns:\n",
        "         df_final[col] = pd.to_numeric(df_final[col], errors='coerce').astype('int64')\n",
        "\n",
        "df_final['Charges.Total'] = pd.to_numeric(df_final['Charges.Total'], errors='coerce')\n",
        "\n",
        "display(df_final.head())"
      ],
      "execution_count": null,
      "outputs": []
    },
    {
      "cell_type": "code",
      "source": [
        "#Correção de linhas em branco\n",
        "\n",
        "df_final = df_final.replace('', np.nan)\n",
        "df_final.dropna(inplace=True)\n",
        "display(df_final.describe())"
      ],
      "metadata": {
        "id": "kQ_LOSkmsfG0"
      },
      "execution_count": null,
      "outputs": []
    },
    {
      "cell_type": "code",
      "source": [
        "#Primeiro grafico, optei por chamar as bibliotecas logo no começo para deixar a visualização do código mais limpa.\n",
        "\n",
        "plt.figure(figsize=(6, 4))\n",
        "ax = sns.countplot(data=df_final, x='Churn')\n",
        "plt.title('Distribuição de Clientes em Churn')\n",
        "plt.xlabel('Churn')\n",
        "plt.ylabel('Número de Clientes')\n",
        "\n",
        "ax.spines['top'].set_visible(False)\n",
        "ax.spines['right'].set_visible(False)\n",
        "\n",
        "for p in ax.patches:\n",
        "    ax.annotate(f'{int(p.get_height())}', (p.get_x() + p.get_width() / 2., p.get_height()),\n",
        "                ha='center', va='center', xytext=(0, 5), textcoords='offset points')\n",
        "\n",
        "plt.xticks([0, 1], ['Não', 'Sim'])\n",
        "\n",
        "plt.show()"
      ],
      "metadata": {
        "id": "fUcYcq4cn-jy"
      },
      "execution_count": null,
      "outputs": []
    },
    {
      "cell_type": "code",
      "source": [
        "#Segunda sequencia de graficos, demandou mais tempo para ser feito mas consegui fazer aos poucos.\n",
        "\n",
        "categorical_cols = ['gender', 'MultipleLines', 'InternetService', 'Contract', 'PaymentMethod']\n",
        "\n",
        "title_map = {\n",
        "    'gender': 'Clientes por Genero',\n",
        "    'MultipleLines': 'Clientes por Linhas Telefonicas',\n",
        "    'InternetService': 'Clientes por Serviço de Internet',\n",
        "    'Contract': 'Clientes por Contrato',\n",
        "    'PaymentMethod': 'Clientes por Metodo de Pagamento'\n",
        "}\n",
        "\n",
        "xlabel_map = {\n",
        "    'gender': 'Genero',\n",
        "    'MultipleLines': 'Linhas Telefonicas',\n",
        "    'InternetService': 'Serviço de Internet',\n",
        "    'Contract': 'Contrato',\n",
        "    'PaymentMethod': 'Metodo de Pagamento'\n",
        "}\n",
        "\n",
        "\n",
        "for col in categorical_cols:\n",
        "    plt.figure(figsize=(8, 5))\n",
        "    ax = sns.countplot(data=df_final, x=col, hue='Churn')\n",
        "\n",
        "    plt.title(title_map[col])\n",
        "    plt.xlabel(xlabel_map[col])\n",
        "    plt.ylabel('Número de Clientes')\n",
        "    ax.spines['top'].set_visible(False)\n",
        "    ax.spines['right'].set_visible(False)\n",
        "\n",
        "    for p in ax.patches:\n",
        "        if p.get_height() > 0:\n",
        "            ax.annotate(f'{int(p.get_height())}', (p.get_x() + p.get_width() / 2., p.get_height()),\n",
        "                        ha='center', va='center', xytext=(0, 5), textcoords='offset points')\n",
        "\n",
        "    handles, labels = ax.get_legend_handles_labels()\n",
        "    new_labels = ['Não', 'Sim']\n",
        "    ax.legend(handles, new_labels, title='Churn', bbox_to_anchor=(1.05, 1), loc='upper left')\n",
        "\n",
        "    current_labels = [item.get_text() for item in ax.get_xticklabels()]\n",
        "    new_xticklabels = current_labels\n",
        "\n",
        "\n",
        "    if col == 'PaymentMethod':\n",
        "        new_xticklabels = [label.replace(' (automatic)', '') for label in new_xticklabels]\n",
        "        new_xticklabels = [label.replace('Mailed check', 'Cheque pelos Correios') for label in new_xticklabels]\n",
        "        new_xticklabels = [label.replace('Electronic check', 'Cheque eletrônico') for label in new_xticklabels]\n",
        "        new_xticklabels = [label.replace('Credit card', 'Cartão de credito') for label in new_xticklabels]\n",
        "        new_xticklabels = [label.replace('Bank transfer', 'Transferencia bancaria') for label in new_xticklabels]\n",
        "\n",
        "    elif col == 'MultipleLines':\n",
        "        new_xticklabels = [label.replace('No phone service', 'Sem serviço telefônico') for label in new_xticklabels]\n",
        "        new_xticklabels = [label.replace('0', 'Não').replace('1', 'Sim') for label in new_xticklabels]\n",
        "\n",
        "    elif col == 'InternetService':\n",
        "         new_xticklabels = [label.replace('0', 'Sem serviço de internet') for label in new_xticklabels]\n",
        "         new_xticklabels = [label.replace('Fiber optic', 'Fibra Otica') for label in new_xticklabels]\n",
        "\n",
        "    elif col == 'Contract':\n",
        "         new_xticklabels = [label.replace('One year', '1 Ano') for label in new_xticklabels]\n",
        "         new_xticklabels = [label.replace('Month-to-month', 'Mensal') for label in new_xticklabels]\n",
        "         new_xticklabels = [label.replace('Two year', '2 Anos') for label in new_xticklabels]\n",
        "\n",
        "\n",
        "    ax.set_xticklabels(new_xticklabels)\n",
        "\n",
        "    plt.show()"
      ],
      "metadata": {
        "id": "c5mBuOW8zfY7"
      },
      "execution_count": null,
      "outputs": []
    },
    {
      "cell_type": "code",
      "metadata": {
        "id": "283b9bc5"
      },
      "source": [
        "#Grafico final de correlação.\n",
        "\n",
        "plt.figure(figsize=(8, 5))\n",
        "ax1 = sns.histplot(data=df_final, x='Charges.Total', hue='Churn', kde=True, multiple='stack', bins=10)\n",
        "plt.title('Total pago by Churn')\n",
        "plt.xlabel('Total Pago')\n",
        "plt.ylabel('Número de Clientes')\n",
        "plt.legend(title='Churn', labels=['Sim', 'Não'])\n",
        "ax1.spines['top'].set_visible(False)\n",
        "ax1.spines['right'].set_visible(False)\n",
        "\n",
        "for container in ax1.containers:\n",
        "    ax1.bar_label(container, fmt='%d', label_type='center')\n",
        "\n",
        "plt.show()\n",
        "\n",
        "plt.figure(figsize=(8, 5))\n",
        "ax2 = sns.histplot(data=df_final, x='tenure', hue='Churn', kde=True, multiple='stack', bins=10)\n",
        "plt.title('Tempo de contrato por Churn')\n",
        "plt.xlabel('Contrato (Meses)')\n",
        "plt.ylabel('Número de Clientes')\n",
        "plt.legend(title='Churn', labels=['Sim', 'Não'])\n",
        "ax2.spines['top'].set_visible(False)\n",
        "ax2.spines['right'].set_visible(False)\n",
        "\n",
        "for container in ax2.containers:\n",
        "    ax2.bar_label(container, fmt='%d', label_type='center')\n",
        "\n",
        "plt.show()"
      ],
      "execution_count": null,
      "outputs": []
    },
    {
      "cell_type": "markdown",
      "source": [
        "##1.\tIntrodução\n",
        "O objetivo dos gráficos e analises que poderão ser vistos a seguir, servirão de base para a pergunta principal que esse relatório busca responder. Quais clientes estão deixando nossos serviços e o que eles consomem.\n"
      ],
      "metadata": {
        "id": "RczbPGa8NWYU"
      }
    },
    {
      "cell_type": "markdown",
      "metadata": {
        "id": "2d566585"
      },
      "source": [
        "## 2. Limpeza e Tratamento de Dados\n",
        "\n",
        "Inicialmente, os dados foram carregados a partir de um arquivo JSON. Como padrão de arquivos JSON os dados aninhados em formato de dicionário (customer, phone, internet, account). Para facilitar a análise, as colunas aninhadas foram normalizadas e mescladas ao DataFrame (df_final). As colunas originais aninhadas foram removidas.\n",
        "Durante a inspeção inicial, os espaços vazios encontrados foram tratados como valores ausentes. E esses foram removidos do DataFrame para garantir a integridade da análise.\n",
        "A partir dai passei para a  conversão de colunas categóricas binárias ('Yes'/'No') para representações numéricas (1 e 0) para torná-las adequadas para análises e modelagens futura. Algumas colunas numéricas foram convertidas para o tipo de dado apropriado (int64, float64).\n"
      ]
    },
    {
      "cell_type": "markdown",
      "metadata": {
        "id": "18c80ab2"
      },
      "source": [
        "## 3. Análise Exploratória\n",
        "\n",
        "Aqui foi modelado os padrões que dos clientes que poderiam estar associados à evasão (Churn). Verificando a distribuição de variáveis de categoria e numéricas em relação ao status de evasão.\n",
        "\n",
        "Distribuição de evasão:\n",
        "\n",
        "Grafico inicial dos clientes que cancelaram e não cancelaram."
      ]
    },
    {
      "cell_type": "markdown",
      "metadata": {
        "id": "4fe5017d"
      },
      "source": [
        "**Análise de Variáveis Categóricas:**\n",
        "\n",
        "Graficos que relacionavam a evazão com as variaveis do DataFrame, como gênero, serviço de internet, tipo de contrato e método de pagamento."
      ]
    },
    {
      "cell_type": "markdown",
      "metadata": {
        "id": "600eda06"
      },
      "source": [
        "**Análise de Variáveis Numéricas:**\n",
        "\n",
        "Foi analisado a distribuição de variáveis numéricas contínuas, como o total gasto pelo cliente e o tempo de contrato (tenure), em relação ao Churn.\n"
      ]
    },
    {
      "cell_type": "markdown",
      "metadata": {
        "id": "6b8ca2f6"
      },
      "source": [
        "## 4. Conclusões e Insights\n",
        "\n",
        "Conforme se vê nos dados e graficos, podemos retirar alguns insights que mostram a evasão de clientes:\n",
        "\n",
        "*   **Contrato Mensal:** Clientes que fazem contratos mensais tem uma taxa de evasão muito superior em comparação com aqueles com contratos de um ou dois anos. Mostrando que a fidelização dos cliente aumenta conforme a duração do contrato.\n",
        "*   **Serviço de Internet Fibra Óptica:** CClientes de fibra óptica também tem uma tendência maior a cancelar. Isso indica problemas de qualidade, preço ou suporte associados a este serviço.\n",
        "*   **Método de Pagamento:** Aqueles que utilizam cheque eletrônico como método de pagamento tem uma taxa de evasão mais alta. Isso pode estar relacionado à conveniência ou a problemas com este método de pagamento.\n",
        "*   **Tempo de Contrato (Tenure):** Quando falamos de contrato (tenure) podemos observar que aqueles com menor tempo de serviço são mais propensos a cancelar. Enquanto a evasão diminui conforme o tempo de contrato aumenta.\n",
        "*   **Total Gasto (Charges.Total):** Quanto total gasto clientes com gastos totais mais baixos tem uma maior propensão à evasão, especialmente nos primeiros meses.\n",
        "meses.\n",
        "\n",
        "Conforme pode ser visto a evasão não está ligada a um único fator, mas sim a uma combinação como: serviços utilizados, tipo de contrato e histórico de relacionamento com a empresa."
      ]
    },
    {
      "cell_type": "markdown",
      "metadata": {
        "id": "9d4937b8"
      },
      "source": [
        "## 5. Recomendações\n",
        "\n",
        "Com base no que foi visto acima, seguem as seguintes recomendações para reduzir o churn:\n",
        "\n",
        "*   **Contratos de Maior Duração:** Oferecer descontos e/ou benefícios progressivos ou exclusivos para aqueles que optarem por contratos de um ou dois anos.\n",
        "*   **Problemas com Fibra Óptica:** Realizar uma análise sobre o serviço de fibra óptica tentando identificar e resolver problemas de qualidade, desempenho ou suporte que estejam contribuindo para a evasão.\n",
        "*   **Método por Pagamento Cheque Eletrônico:** Verificar os problemas ou inconvenientes associados ao método de pagamento e considerar alternativas ou melhorias.\n",
        "*   **Programa de Fidelidade para Clientes Iniciais:** Criar programas de fidelidade para os clientes nos primeiros meses de contrato aumentando a satisfação e reduzindo de evasão precoce.\n",
        "*   **Clientes de Baixo Gasto:** Identificar os clientes com baixos gastos totais, com atenção especial para aqueles nos primeiros meses e entrar em contato para entender suas necessidades e oferecer soluções personalizadas."
      ]
    }
  ]
}